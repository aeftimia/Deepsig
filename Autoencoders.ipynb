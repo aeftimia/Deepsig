{
 "cells": [
  {
   "cell_type": "markdown",
   "metadata": {},
   "source": [
    "# Autoencoders: Denoising, Clustering, and Generation\n",
    "\n",
    "Alex Eftimiades"
   ]
  },
  {
   "cell_type": "code",
   "execution_count": null,
   "metadata": {},
   "outputs": [],
   "source": [
    "# Why Use Autoencoders?\n",
    "* Dimensionality reduction\n",
    "* Denoising\n",
    "* Generative models"
   ]
  },
  {
   "cell_type": "markdown",
   "metadata": {},
   "source": [
    "# Autoencoders Tested\n",
    "* Vanilla\n",
    "* \"Double\"\n",
    "* Variational"
   ]
  },
  {
   "cell_type": "markdown",
   "metadata": {},
   "source": [
    "# Building Blocks\n",
    "* Convolutional: RELU\n",
    "* Inverse convolutional: RELU\n",
    "* Dense: RELU, linear bottleneck layer"
   ]
  },
  {
   "cell_type": "markdown",
   "metadata": {},
   "source": [
    "# Vanilla Reconstruction\n",
    "\n",
    "* 32 dimensional bottleneck for CIFAR10 is sufficient, 4 for MNIST\n",
    "* Excellent denoiser (insert metric)\n",
    "* Used linear layers on both sides of bottleneck"
   ]
  },
  {
   "cell_type": "markdown",
   "metadata": {},
   "source": [
    "# Variational\n",
    "\n",
    "* 2 dimensional bottleneck sufficient for generation, not reconstruction\n",
    "* Gaussian noise on similar \n",
    "* Linear layers around bottleneck extremely helpful\n",
    "* GMM hit 60% accuracy classifying MNIST digits _unsupervised_\n",
    "* mean of kl loss similar to kl loss of mean\n",
    "\n",
    "<img src=\"http://localhost:8888/files/deepsig/variational/digits_over_latent.png\">"
   ]
  },
  {
   "cell_type": "markdown",
   "metadata": {},
   "source": [
    "# Future Work\n",
    "\n",
    "* Resnet style skip connections\n",
    "* Multiple binary classifiers with guassians "
   ]
  },
  {
   "cell_type": "markdown",
   "metadata": {},
   "source": [
    "# Questions/Demo time!"
   ]
  }
 ],
 "metadata": {
  "celltoolbar": "Edit Metadata",
  "kernelspec": {
   "display_name": "Environment (conda_tensorflow_p36)",
   "language": "python",
   "name": "conda_tensorflow_p36"
  },
  "language_info": {
   "codemirror_mode": {
    "name": "ipython",
    "version": 3
   },
   "file_extension": ".py",
   "mimetype": "text/x-python",
   "name": "python",
   "nbconvert_exporter": "python",
   "pygments_lexer": "ipython3",
   "version": "3.6.5"
  }
 },
 "nbformat": 4,
 "nbformat_minor": 2
}
