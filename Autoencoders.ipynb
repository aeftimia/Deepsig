{
 "cells": [
  {
   "cell_type": "markdown",
   "metadata": {},
   "source": [
    "# Autoencoders: Dimensionality Reduction, Generation, and Clustering\n",
    "\n",
    "Alex Eftimiades"
   ]
  },
  {
   "cell_type": "markdown",
   "metadata": {},
   "source": [
    "# Why Use Autoencoders?\n",
    "* Denoising\n",
    "* Dimensionality reduction\n",
    "* Generative models"
   ]
  },
  {
   "cell_type": "markdown",
   "metadata": {},
   "source": [
    "# Autoencoders Tested\n",
    "* Vanilla\n",
    "* Double\n",
    "* Variational\n",
    "* Variational with batch sample estimated kl loss"
   ]
  },
  {
   "cell_type": "markdown",
   "metadata": {},
   "source": [
    "# Building Blocks\n",
    "\n",
    "* Preprocess: Rescale [0, max] to [0, 1]\n",
    "* Convolutional: RELU\n",
    "* Dense: RELU, linear bottleneck layer\n",
    "* Inverse convolutional: RELU\n",
    "* Mean squared error (gaurantees finite penalities)\n",
    "* Similar results from mean squared"
   ]
  },
  {
   "cell_type": "markdown",
   "metadata": {},
   "source": [
    "# Hyperparameters\n",
    "\n",
    "* batch size: 128\n",
    "* num epochs:  60\n",
    "* kernel size: 4\n",
    "* bottleneck: 2, 32\n",
    "* strides = 2\n",
    "* layer filters = (32, 64)"
   ]
  },
  {
   "cell_type": "markdown",
   "metadata": {},
   "source": [
    "# Base Model\n",
    "\n",
    "<img src=\"http://localhost:8888/files/deepsig/vanilla/encoder_2.png\">"
   ]
  },
  {
   "cell_type": "markdown",
   "metadata": {},
   "source": [
    "# Vanilla Reconstruction\n",
    "\n",
    "* 32 dimensional bottleneck for CIFAR10 is sufficient, 4 for MNIST\n",
    "* Used linear layers on both sides of bottleneck\n",
    "<img src=\"http://localhost:8888/files/deepsig/vanilla/digits_over_latent.png\">"
   ]
  },
  {
   "cell_type": "markdown",
   "metadata": {},
   "source": [
    "# Double\n",
    "\n",
    "* Vanilla but reconstruct latent hidden variables\n",
    "* Sampled from isotropic unit gaussian\n",
    "\n",
    "<img src=\"http://localhost:8888/files/deepsig/double/digits_over_latent.png\">"
   ]
  },
  {
   "cell_type": "markdown",
   "metadata": {},
   "source": [
    "# Variational\n",
    "\n",
    "* 2 dimensional bottleneck sufficient for generation, not reconstruction\n",
    "* Gaussian noise on similar \n",
    "* Linear layers around bottleneck extremely helpful\n",
    "* GMM hit 60% accuracy classifying MNIST digits _unsupervised_\n",
    "* mean of kl loss similar to kl loss of mean\n",
    "\n",
    "<img src=\"http://localhost:8888/files/deepsig/variational/digits_over_latent.png\">"
   ]
  },
  {
   "cell_type": "markdown",
   "metadata": {},
   "source": [
    "# Variational With Sample Estimated Loss\n",
    "\n",
    "* Latent kl loss derived from estimators over each batch\n",
    "* Can be minimized without obviously detracting reconstruction fidelity\n",
    "* Ultimately produced similar results to usual variational implementation\n",
    "\n",
    "<img src=\"http://localhost:8888/files/deepsig/variational_sample/digits_over_latent.png\">"
   ]
  },
  {
   "cell_type": "markdown",
   "metadata": {},
   "source": [
    "# Reconstruction Comparison 2D Bottleneck\n",
    "\n",
    "<img src=\"http://localhost:8888/files/deepsig/reconstructed_2.png\">"
   ]
  },
  {
   "cell_type": "markdown",
   "metadata": {},
   "source": [
    "# Reconstruction Comparison 32D Bottleneck\n",
    "\n",
    "<img src=\"http://localhost:8888/files/deepsig/reconstructed_32.png\">"
   ]
  },
  {
   "cell_type": "markdown",
   "metadata": {},
   "source": [
    "# K means Clustering Accuracy 2D Bottleneck\n",
    "\n",
    "* Vanilla: 59.64%\n",
    "* Double: 52.89%\n",
    "* Variational: 18.06%\n",
    "* Variational Sample Loss: 53.0%"
   ]
  },
  {
   "cell_type": "markdown",
   "metadata": {},
   "source": [
    "# K means Clustering Accuracy 32D Bottleneck\n",
    "\n",
    "* Vanilla: 84.88%\n",
    "* Double: 86.33%\n",
    "* Variational: 34.39%\n",
    "* Variational Sample Loss: 77.72%"
   ]
  },
  {
   "cell_type": "markdown",
   "metadata": {},
   "source": [
    "# Future Work\n",
    "\n",
    "* Resnet blocks\n",
    "* Mainstream image processing network (Renset, VGG, etc)\n",
    "* Independent binary classification with anisotropic guassians\n",
    "* Multiclass identification\n",
    "* Further analysis on diverse color images like CIFAR10"
   ]
  },
  {
   "cell_type": "markdown",
   "metadata": {},
   "source": [
    "# Questions/Demo time!"
   ]
  }
 ],
 "metadata": {
  "celltoolbar": "Edit Metadata",
  "kernelspec": {
   "display_name": "Environment (conda_tensorflow_p36)",
   "language": "python",
   "name": "conda_tensorflow_p36"
  },
  "language_info": {
   "codemirror_mode": {
    "name": "ipython",
    "version": 3
   },
   "file_extension": ".py",
   "mimetype": "text/x-python",
   "name": "python",
   "nbconvert_exporter": "python",
   "pygments_lexer": "ipython3",
   "version": "3.6.5"
  }
 },
 "nbformat": 4,
 "nbformat_minor": 2
}
